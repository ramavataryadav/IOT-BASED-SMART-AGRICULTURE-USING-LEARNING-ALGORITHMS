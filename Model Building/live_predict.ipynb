{
  "cells": [
    {
      "cell_type": "code",
      "execution_count": 2,
      "metadata": {
        "id": "D6UlPeuJK89t"
      },
      "outputs": [],
      "source": [
        "from twilio.rest import Client\n",
        "\n",
        "def send_sms(animal_class, confidence):\n",
        "    account_sid = \"ACdceeb5336fea1a0e46fb663fc57df38a\"\n",
        "    auth_token = \"00e4d2e355fbdee88cea71a6ba79ee88\"\n",
        "    client = Client(account_sid, auth_token)\n",
        "\n",
        "    message_body = f\"⚠ Alert: {animal_class} detected with {confidence:.2f} confidence!\"\n",
        "\n",
        "    message = client.messages.create(\n",
        "        body=message_body,\n",
        "        from_='+918233404139',\n",
        "        to='+917014723440'\n",
        "    )\n",
        "\n",
        "    print(\"SMS sent:\", message.sid)"
      ]
    },
    {
      "cell_type": "code",
      "execution_count": null,
      "metadata": {
        "collapsed": true,
        "id": "HMZeWH1BHVWQ"
      },
      "outputs": [],
      "source": [
        "import cv2\n",
        "import requests\n",
        "import numpy as np\n",
        "from PIL import Image\n",
        "from io import BytesIO\n",
        "import torch\n",
        "from torchvision import transforms\n",
        "\n",
        "# Load the PyTorch model\n",
        "model = load_state_dict(torch.load(\"model_ram.pt\"))\n",
        "model.eval()\n",
        "\n",
        "# Define class labels\n",
        "class_names = ['Cow', 'Deer', 'Dog', 'Horse', 'Goat', 'Sheep', 'Lion', 'Tiger', 'Elephent', 'Hippo']\n",
        "\n",
        "# Preprocessing (adjust if your model needs different input size or normalization)\n",
        "transform = transforms.Compose([\n",
        "    transforms.Resize((224, 224)),  # Match model input\n",
        "    transforms.ToTensor(),          # Convert to tensor\n",
        "    transforms.Normalize(mean=[0.5, 0.5, 0.5], std=[0.5, 0.5, 0.5])  # Example normalization\n",
        "])\n",
        "\n",
        "# ESP32-CAM capture URL\n",
        "url = \"http://192.168.1.91/capture\"\n",
        "\n",
        "while True:\n",
        "    try:\n",
        "        # Get image from ESP32-CAM\n",
        "        response = requests.get(url, timeout=5)\n",
        "        image = Image.open(BytesIO(response.content)).convert(\"RGB\")\n",
        "\n",
        "        # Preprocess image\n",
        "        input_tensor = transform(image).unsqueeze(0)  # Add batch dimension\n",
        "\n",
        "        # Run inference\n",
        "        with torch.no_grad():\n",
        "            outputs = model(input_tensor)\n",
        "            probabilities = torch.nn.functional.softmax(outputs[0], dim=0)\n",
        "            confidence, class_idx = torch.max(probabilities, dim=0)\n",
        "\n",
        "        detected_class = class_names[class_idx]\n",
        "\n",
        "        print(f\"Detected: {detected_class} (Confidence: {confidence:.2f})\")\n",
        "\n",
        "        if confidence > 0.8:\n",
        "            print(f\"⚠ Alert: {detected_class} detected!\")\n",
        "            send_sms(detected_class, confidence)\n",
        "\n",
        "    except Exception as e:\n",
        "        print(\"Error:\", e)\n"
      ]
    }
  ],
  "metadata": {
    "colab": {
      "provenance": []
    },
    "kernelspec": {
      "display_name": "Python 3",
      "name": "python3"
    },
    "language_info": {
      "name": "python"
    }
  },
  "nbformat": 4,
  "nbformat_minor": 0
}
