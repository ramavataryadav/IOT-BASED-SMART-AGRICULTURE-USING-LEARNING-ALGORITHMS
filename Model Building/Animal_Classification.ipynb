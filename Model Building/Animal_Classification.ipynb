{
  "cells": [
    {
      "cell_type": "code",
      "execution_count": 1,
      "metadata": {
        "colab": {
          "base_uri": "https://localhost:8080/"
        },
        "id": "ohBYjEe2ArvE",
        "outputId": "fd833753-8883-4397-8984-1117ea292600"
      },
      "outputs": [
        {
          "name": "stdout",
          "output_type": "stream",
          "text": [
            "Data source import complete.\n"
          ]
        }
      ],
      "source": [
        "# IMPORTANT: RUN THIS CELL IN ORDER TO IMPORT YOUR KAGGLE DATA SOURCES,\n",
        "# THEN FEEL FREE TO DELETE THIS CELL.\n",
        "# NOTE: THIS NOTEBOOK ENVIRONMENT DIFFERS FROM KAGGLE'S PYTHON\n",
        "# ENVIRONMENT SO THERE MAY BE MISSING LIBRARIES USED BY YOUR\n",
        "# NOTEBOOK.\n",
        "import kagglehub\n",
        "alessiocorrado99_animals10_path = kagglehub.dataset_download('alessiocorrado99/animals10')\n",
        "\n",
        "print('Data source import complete.')\n"
      ]
    },
    {
      "cell_type": "markdown",
      "metadata": {
        "id": "Hq_LyEWHjmkg"
      },
      "source": [
        "# Animal Classification : VGG16"
      ]
    },
    {
      "cell_type": "markdown",
      "metadata": {
        "id": "0Y46qFazkzGC"
      },
      "source": [
        "## Importing the libraries"
      ]
    },
    {
      "cell_type": "code",
      "execution_count": 3,
      "metadata": {
        "colab": {
          "base_uri": "https://localhost:8080/"
        },
        "id": "L12MlbkSkuz_",
        "outputId": "3217d515-f843-44da-956e-192f0eefb43c"
      },
      "outputs": [
        {
          "name": "stdout",
          "output_type": "stream",
          "text": [
            "Collecting torchinfo\n",
            "  Downloading torchinfo-1.8.0-py3-none-any.whl.metadata (21 kB)\n",
            "Downloading torchinfo-1.8.0-py3-none-any.whl (23 kB)\n",
            "Installing collected packages: torchinfo\n",
            "Successfully installed torchinfo-1.8.0\n"
          ]
        }
      ],
      "source": [
        "!pip install torchinfo\n",
        "import torch\n",
        "import torchvision\n",
        "from torch import nn , optim\n",
        "from torch.utils.data import DataLoader, random_split\n",
        "from torchvision import transforms\n",
        "from torchvision.datasets import ImageFolder\n",
        "from torchvision.utils import make_grid\n",
        "from torchinfo import summary\n",
        "import numpy as np\n",
        "import seaborn as sns\n",
        "import matplotlib.pyplot as plt"
      ]
    },
    {
      "cell_type": "code",
      "execution_count": 4,
      "metadata": {
        "colab": {
          "base_uri": "https://localhost:8080/"
        },
        "id": "5w0ly_8Rlxyg",
        "outputId": "55d7720c-2862-4c0b-857e-e2973e77c949"
      },
      "outputs": [
        {
          "data": {
            "text/plain": [
              "device(type='cuda')"
            ]
          },
          "execution_count": 4,
          "metadata": {},
          "output_type": "execute_result"
        }
      ],
      "source": [
        "# setting up torch\n",
        "device  = 'cuda' if torch.cuda.is_available() else 'cpu'\n",
        "torch.device(device)"
      ]
    },
    {
      "cell_type": "markdown",
      "metadata": {
        "id": "jFvuYDbkl_q_"
      },
      "source": [
        "## Creating Datasets and Data Loaders"
      ]
    },
    {
      "cell_type": "code",
      "execution_count": 5,
      "metadata": {
        "id": "8xt3Dn90l-P_"
      },
      "outputs": [],
      "source": [
        "# transforms\n",
        "img_transforms = transforms.Compose([\n",
        "    transforms.RandomHorizontalFlip(p=0.5),\n",
        "    transforms.RandomVerticalFlip(p=0.5),\n",
        "    transforms.RandomRotation(degrees=1),\n",
        "    transforms.Resize((224,224)),\n",
        "    transforms.ToTensor(),\n",
        "    transforms.Normalize(mean=[0.5, 0.5, 0.5], std=[0.5, 0.5, 0.5])\n",
        "])"
      ]
    },
    {
      "cell_type": "code",
      "execution_count": null,
      "metadata": {
        "id": "RkBXd3KDnMSX"
      },
      "outputs": [],
      "source": [
        "# create dataset using ImageFolder\n",
        "\n",
        "dataset = ImageFolder(root='/kaggle/input/animals10/raw-img', transform=img_transforms)\n",
        "\n",
        "# creating train dataset from dataset\n",
        "train_size = int(0.8 * len(dataset))\n",
        "test_val_size = len(dataset) - train_size\n",
        "train_dataset, test_val_dataset = random_split(dataset, [train_size, test_val_size])\n",
        "\n",
        "# create test and validation set frm test_val_dataset\n",
        "test_size = int(0.5 * len(test_val_dataset))\n",
        "val_size = len(test_val_dataset) - test_size\n",
        "test_dataset, val_dataset = random_split(test_val_dataset, [test_size, val_size])\n",
        "\n",
        "len(train_dataset), len(test_dataset), len(val_dataset)"
      ]
    },
    {
      "cell_type": "code",
      "execution_count": null,
      "metadata": {
        "id": "x63Y6eyNngLo"
      },
      "outputs": [],
      "source": [
        "# create data loaders\n",
        "batch_size = 32\n",
        "train_loader = DataLoader(train_dataset, batch_size=batch_size, shuffle=True, num_workers=2, pin_memory=True)\n",
        "test_loader = DataLoader(test_dataset, batch_size=batch_size, shuffle=False, num_workers=2, pin_memory=True)\n",
        "val_loader = DataLoader(val_dataset, batch_size=batch_size, shuffle=False, num_workers=2, pin_memory=True)\n",
        "\n",
        "len(train_loader), len(test_loader), len(val_loader)"
      ]
    },
    {
      "cell_type": "markdown",
      "metadata": {
        "id": "fEjZtPqcnjJP"
      },
      "source": [
        "## Visualize Dataset"
      ]
    },
    {
      "cell_type": "code",
      "execution_count": null,
      "metadata": {
        "id": "CLe0hq3hnhxH"
      },
      "outputs": [],
      "source": [
        "# create visualize fuction\n",
        "def visualize(dataloader):\n",
        "  images, labels = next(iter(dataloader))\n",
        "  grid = make_grid(images, nrow=8)\n",
        "  plt.figure(figsize=(15,15))\n",
        "  plt.imshow(np.transpose(grid, (1,2,0)))\n",
        "  plt.show()\n"
      ]
    },
    {
      "cell_type": "code",
      "execution_count": null,
      "metadata": {
        "id": "8YiJ2BmSnvKf"
      },
      "outputs": [],
      "source": [
        "# visualize train dataset\n",
        "visualize(train_loader)"
      ]
    },
    {
      "cell_type": "code",
      "execution_count": null,
      "metadata": {
        "id": "E2s_--U4nyoX"
      },
      "outputs": [],
      "source": [
        "# visualize validation set\n",
        "visualize(val_loader)"
      ]
    },
    {
      "cell_type": "code",
      "execution_count": null,
      "metadata": {
        "id": "UnZF9KSXn-mf"
      },
      "outputs": [],
      "source": [
        "# visualize test set\n",
        "visualize(test_loader)"
      ]
    },
    {
      "cell_type": "markdown",
      "metadata": {
        "id": "bdaOELIboSk3"
      },
      "source": [
        "## Create Model"
      ]
    },
    {
      "cell_type": "code",
      "execution_count": null,
      "metadata": {
        "id": "rb28NQMJrsDO"
      },
      "outputs": [],
      "source": [
        "# create vgg16 model\n",
        "class VGG16(nn.Module):\n",
        "  def __init__(self):\n",
        "    super(VGG16,self).__init__()\n",
        "    self.model = nn.Sequential(\n",
        "\n",
        "        # first block\n",
        "        nn.Conv2d(in_channels=3, out_channels=64, kernel_size=3, padding=1),\n",
        "        nn.BatchNorm2d(64),\n",
        "        nn.ReLU(),\n",
        "        nn.Conv2d(in_channels=64, out_channels=64, kernel_size=3, padding=1),\n",
        "        nn.BatchNorm2d(64),\n",
        "        nn.ReLU(),\n",
        "        nn.MaxPool2d(kernel_size=2, stride=2),\n",
        "\n",
        "        # second block\n",
        "        nn.Conv2d(in_channels=64, out_channels=128, kernel_size=3, padding=1),\n",
        "        nn.BatchNorm2d(128),\n",
        "        nn.ReLU(),\n",
        "        nn.Conv2d(in_channels=128, out_channels=128, kernel_size=3, padding=1),\n",
        "        nn.BatchNorm2d(128),\n",
        "        nn.ReLU(),\n",
        "        nn.MaxPool2d(kernel_size=2, stride=2),\n",
        "\n",
        "        # third block\n",
        "        nn.Conv2d(in_channels=128, out_channels=256, kernel_size=3, padding=1),\n",
        "        nn.BatchNorm2d(256),\n",
        "        nn.ReLU(),\n",
        "        nn.Conv2d(in_channels=256, out_channels=256, kernel_size=3, padding=1),\n",
        "        nn.BatchNorm2d(256),\n",
        "        nn.ReLU(),\n",
        "        nn.Conv2d(in_channels=256, out_channels=256, kernel_size=3, padding=1),\n",
        "        nn.BatchNorm2d(256),\n",
        "        nn.ReLU(),\n",
        "        nn.MaxPool2d(kernel_size=2, stride=2),\n",
        "\n",
        "        # fourth block\n",
        "        nn.Conv2d(in_channels=256, out_channels=512, kernel_size=3, padding=1),\n",
        "        nn.BatchNorm2d(512),\n",
        "        nn.ReLU(),\n",
        "        nn.Conv2d(in_channels=512, out_channels=512, kernel_size=3, padding=1),\n",
        "        nn.BatchNorm2d(512),\n",
        "        nn.ReLU(),\n",
        "        nn.Conv2d(in_channels=512, out_channels=512, kernel_size=3, padding=1),\n",
        "        nn.BatchNorm2d(512),\n",
        "        nn.ReLU(),\n",
        "        nn.MaxPool2d(kernel_size=2, stride=2),\n",
        "\n",
        "        #fifth block\n",
        "        nn.Conv2d(in_channels=512, out_channels=512, kernel_size=3, padding=1),\n",
        "        nn.BatchNorm2d(512),\n",
        "        nn.ReLU(),\n",
        "        nn.Conv2d(in_channels=512, out_channels=512, kernel_size=3, padding=1),\n",
        "        nn.BatchNorm2d(512),\n",
        "        nn.ReLU(),\n",
        "        nn.Conv2d(in_channels=512, out_channels=512, kernel_size=3, padding=1),\n",
        "        nn.BatchNorm2d(512),\n",
        "        nn.ReLU(),\n",
        "        nn.MaxPool2d(kernel_size=2, stride=2),\n",
        "\n",
        "        # fully connected layers\n",
        "        nn.Flatten(),\n",
        "\n",
        "        nn.Linear(in_features=512*7*7, out_features=4096),\n",
        "        nn.ReLU(),\n",
        "        nn.Dropout(),\n",
        "\n",
        "        nn.Linear(in_features=4096, out_features=2048),\n",
        "        nn.ReLU(),\n",
        "        nn.Dropout(),\n",
        "\n",
        "        nn.Linear(in_features=2048, out_features=80)\n",
        "\n",
        "    )\n",
        "\n",
        "  def forward(self, x):\n",
        "    return self.model(x)\n"
      ]
    },
    {
      "cell_type": "code",
      "execution_count": null,
      "metadata": {
        "id": "4-7lV3fkq9zn"
      },
      "outputs": [],
      "source": [
        "# create model instance\n",
        "model = VGG16().to(device)"
      ]
    },
    {
      "cell_type": "code",
      "execution_count": null,
      "metadata": {
        "id": "vcYmUoeDrAdv"
      },
      "outputs": [],
      "source": [
        "summary(model, input_size=(1,3,224,224))"
      ]
    },
    {
      "cell_type": "markdown",
      "metadata": {
        "id": "hkV8Jk35ruJu"
      },
      "source": [
        "## Train Model"
      ]
    },
    {
      "cell_type": "code",
      "execution_count": null,
      "metadata": {
        "id": "s6CZoFiyrCCn"
      },
      "outputs": [],
      "source": [
        "optimizer = optim.Adam(model.parameters(), lr=0.0001)\n",
        "loss_fn = nn.CrossEntropyLoss()"
      ]
    },
    {
      "cell_type": "code",
      "execution_count": null,
      "metadata": {
        "id": "hV6oNoLwrGiH"
      },
      "outputs": [],
      "source": [
        "# train model\n",
        "epochs = 25\n",
        "\n",
        "training_loss = []\n",
        "validation_loss = []\n",
        "\n",
        "for epoch in range(epochs):\n",
        "\n",
        "    # Training phase\n",
        "    model.train()\n",
        "    epoch_train_loss = 0.0\n",
        "    for images, labels in train_loader:\n",
        "        # Move data to the appropriate device\n",
        "        images = images.to(device)\n",
        "        labels = labels.to(device)\n",
        "\n",
        "        # Clear gradients\n",
        "        optimizer.zero_grad()\n",
        "\n",
        "        # Forward pass\n",
        "        outputs = model(images)\n",
        "        train_loss = loss_fn(outputs, labels)\n",
        "\n",
        "        # Backward pass\n",
        "        train_loss.backward()\n",
        "        optimizer.step()\n",
        "\n",
        "        epoch_train_loss += train_loss.item() * images.size(0)  # Accumulate loss\n",
        "\n",
        "    # Average training loss for the epoch\n",
        "    epoch_train_loss /= len(train_loader.dataset)\n",
        "    training_loss.append(epoch_train_loss)\n",
        "\n",
        "    # Validation phase\n",
        "    model.eval()\n",
        "    epoch_val_loss = 0.0\n",
        "    with torch.inference_mode():\n",
        "        for val_images, val_labels in val_loader:\n",
        "            # Move validation data to the appropriate device\n",
        "            val_images = val_images.to(device)\n",
        "            val_labels = val_labels.to(device)\n",
        "\n",
        "            val_outputs = model(val_images)\n",
        "            val_loss = loss_fn(val_outputs, val_labels)\n",
        "            epoch_val_loss += val_loss.item() * val_images.size(0)  # Accumulate loss\n",
        "\n",
        "    # Average validation loss for the epoch\n",
        "    epoch_val_loss /= len(val_loader.dataset)\n",
        "    validation_loss.append(epoch_val_loss)\n",
        "\n",
        "    # Print loss for the epoch\n",
        "    print(f\"Epoch: {epoch+1}/{epochs}, Training Loss: {epoch_train_loss:.4f}, Validation Loss: {epoch_val_loss:.4f}\")\n"
      ]
    },
    {
      "cell_type": "markdown",
      "metadata": {
        "id": "u1ywJlLmtFb-"
      },
      "source": [
        "# Visualize Losses"
      ]
    },
    {
      "cell_type": "code",
      "execution_count": null,
      "metadata": {
        "id": "M6bJ4XV7sDqH"
      },
      "outputs": [],
      "source": [
        "plt.plot(training_loss, label='Training Loss')\n",
        "plt.plot(validation_loss, label='Validation Loss')\n",
        "plt.xlabel('Epoch')\n",
        "plt.ylabel('Loss')\n",
        "plt.legend()\n",
        "plt.show()"
      ]
    },
    {
      "cell_type": "markdown",
      "metadata": {
        "id": "VWnH1mKM-DLC"
      },
      "source": [
        "## Test Model"
      ]
    },
    {
      "cell_type": "code",
      "execution_count": null,
      "metadata": {
        "id": "kkElUi9w5Dkb"
      },
      "outputs": [],
      "source": [
        "# Test model on test set\n",
        "predicted_labels = []\n",
        "actual_labels = []\n",
        "\n",
        "model.eval()  # Set the model to evaluation mode\n",
        "with torch.inference_mode():  # Ensure no gradients are computed\n",
        "    for images, labels in test_loader:\n",
        "        images = images.to(device)\n",
        "        labels = labels.to(device)\n",
        "        outputs = model(images)\n",
        "        _, predicted = torch.max(outputs, 1)\n",
        "        predicted_labels.extend(predicted.cpu().numpy())\n",
        "        actual_labels.extend(labels.cpu().numpy())"
      ]
    },
    {
      "cell_type": "markdown",
      "metadata": {
        "id": "UTlD5UFF-Fxk"
      },
      "source": [
        "## Evaluate Model"
      ]
    },
    {
      "cell_type": "code",
      "execution_count": null,
      "metadata": {
        "id": "YP5Zu23j5D6b"
      },
      "outputs": [],
      "source": [
        "from sklearn.metrics import accuracy_score, precision_score, recall_score, f1_score, classification_report, confusion_matrix\n",
        "import seaborn as sns\n",
        "import matplotlib.pyplot as plt\n",
        "\n",
        "# Calculate evaluation metrics\n",
        "accuracy = accuracy_score(actual_labels, predicted_labels)\n",
        "precision = precision_score(actual_labels, predicted_labels, average='weighted', zero_division=0)\n",
        "recall = recall_score(actual_labels, predicted_labels, average='weighted', zero_division=0)\n",
        "f1 = f1_score(actual_labels, predicted_labels, average='weighted', zero_division=0)\n",
        "\n",
        "# Print metrics\n",
        "print(f\"Model Accuracy: {accuracy * 100:.2f}%\")\n",
        "print(f\"Model Precision: {precision * 100:.2f}%\")\n",
        "print(f\"Model Recall: {recall * 100:.2f}%\")\n",
        "print(f\"Model F1 Score: {f1 * 100:.2f}%\")\n",
        "\n",
        "# Print classification report\n",
        "print(classification_report(actual_labels, predicted_labels, zero_division=0))\n",
        "\n",
        "# Generate and visualize confusion matrix\n",
        "cm = confusion_matrix(actual_labels, predicted_labels)\n",
        "class_names = dataset.classes\n",
        "\n",
        "plt.figure(figsize=(40, 20))\n",
        "sns.heatmap(cm, annot=True, fmt='d', xticklabels=class_names, yticklabels=class_names, cmap='Blues')\n",
        "plt.title('Confusion Matrix')\n",
        "plt.xlabel('Predicted Labels')\n",
        "plt.ylabel('Actual Labels')\n",
        "plt.show()\n"
      ]
    },
    {
      "cell_type": "markdown",
      "metadata": {
        "id": "JmchU7bM-L2y"
      },
      "source": [
        "## Save Model"
      ]
    },
    {
      "cell_type": "code",
      "execution_count": null,
      "metadata": {
        "id": "g2dKkDZU-Nn6"
      },
      "outputs": [],
      "source": [
        "# save model\n",
        "torch.save(model.state_dict(), 'animal.pt')"
      ]
    }
  ],
  "metadata": {
    "accelerator": "GPU",
    "colab": {
      "gpuType": "T4",
      "name": "Animal Classification | VGG16 | Pytorch",
      "provenance": []
    },
    "kaggle": {
      "accelerator": "none",
      "dataSources": [
        {
          "datasetId": 59760,
          "sourceId": 840806,
          "sourceType": "datasetVersion"
        }
      ],
      "dockerImageVersionId": 30761,
      "isGpuEnabled": false,
      "isInternetEnabled": true,
      "language": "python",
      "sourceType": "notebook"
    },
    "kernelspec": {
      "display_name": "Python 3",
      "language": "python",
      "name": "python3"
    },
    "language_info": {
      "codemirror_mode": {
        "name": "ipython",
        "version": 3
      },
      "file_extension": ".py",
      "mimetype": "text/x-python",
      "name": "python",
      "nbconvert_exporter": "python",
      "pygments_lexer": "ipython3",
      "version": "3.10.14"
    }
  },
  "nbformat": 4,
  "nbformat_minor": 0
}
